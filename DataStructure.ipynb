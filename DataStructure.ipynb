{
  "nbformat": 4,
  "nbformat_minor": 0,
  "metadata": {
    "colab": {
      "provenance": []
    },
    "kernelspec": {
      "name": "python3",
      "display_name": "Python 3"
    },
    "language_info": {
      "name": "python"
    }
  },
  "cells": [
    {
      "cell_type": "code",
      "execution_count": null,
      "metadata": {
        "id": "zucJ-ZOgL-xu"
      },
      "outputs": [],
      "source": []
    },
    {
      "cell_type": "markdown",
      "source": [],
      "metadata": {
        "id": "GOaJjRcoVFff"
      }
    },
    {
      "cell_type": "code",
      "source": [],
      "metadata": {
        "id": "afgC7_KHVGfc"
      },
      "execution_count": null,
      "outputs": []
    },
    {
      "cell_type": "markdown",
      "source": [
        "**Data Structure**\n"
      ],
      "metadata": {
        "id": "rOVmgfxFMF1C"
      }
    },
    {
      "cell_type": "markdown",
      "source": [
        "1.\tWhat are data structures, and why are they important?\n",
        "   - Data structures are specialized formats for organizing, storing, and managing data in a computer's memory to facilitate efficient access and modification. They define the relationships between data elements and the operations that can be performed on them. Common examples include lists, tuples, sets, and dictionaries in Python\n",
        "2. Explain the difference between mutable and immutable data types with examples.\n",
        "   - Mutable Data Types:\n",
        "Mutable data types are those whose values or content can be modified after they have been initialized. Changes made to a mutable object directly alter the object in memory.\n",
        "Examples:\n",
        "                   Lists: Elements can be added, removed, or modified.\n",
        "          my_list = [1, 2, 3]\n",
        "                      my_list.append(4)  # Modifies the original lis\n",
        "                       my_list[0] = 5     # Modifies the original list\n",
        "                        print(my_list)\n",
        "     Immutable Data Types:\n",
        "    Immutable data types are those whose values cannot be changed after they have been created. Any operation that appears to modify an immutable object actually results in the creation of a new object with the updated value.\n",
        "\t  Examples:\n",
        "          my_tuple = (1, 2, 3)\n",
        "         my_tuple[0] = 4  # This would raise a TypeError\n",
        "        print(my_tuple)\n",
        "3. \tWhat are the main differences between lists and tuples in Python?\n",
        "   - The main differences between lists and tuples in Python are:\n",
        "•\tMutability:\n",
        "This is the most significant difference. Lists are mutable, meaning their elements can be changed (added, removed, or modified) after creation. Tuples are immutable, meaning their contents cannot be altered once the tuple is created.\n",
        "4. \tDescribe how dictionaries store data.\n",
        "   - Dictionaries, also known as hash maps or associative arrays in other programming languages, store data as a collection of unique key-value pairs. Each key within a dictionary must be unique, while values can be duplicated.\n",
        "5. \tWhy might you use a set instead of a list in Python?\n",
        "   - use a set when you need a collection of unique items, require fast membership checks, or intend to perform set-theoretic operations. Use a list when element order is important, duplicates are allowed or necessary, and frequent access by index is required.\n",
        "•\tUniqueness of Elements:\n",
        "Sets inherently store only unique elements, automatically eliminating duplicates. If a collection must contain only distinct values, using a set is a straightforward and efficient way to achieve this without manual de-duplication.\n",
        "Efficient Membership Testing:\n",
        "Checking for the presence of an element within a set (using the in operator) is significantly faster than in a list, especially for large collections.\n",
        "\n",
        "6. \tWhat is a string in Python, and how is it different from a list?\n",
        "   - In Python, a string is an immutable sequence of characters, used to represent textual data. Strings are enclosed in single quotes ('...'), double quotes (\"...\"), or triple quotes ('''...''' or \"\"\"...\"\"\") for multiline strings.\n",
        "Strings are immutable: Once a string is created, its individual characters cannot be changed. Any operation that appears to modify a string actually creates a new string.\n",
        "Lists are mutable: Elements within a list can be added, removed, or modified after the list has been created.\n",
        "Operations:\n",
        "         Strings: have specific methods for string manipulation (e.g., upper(), find(), replace()).\n",
        "          Lists: have methods for modifying the list structure                     (e.g., append(), insert(), remove(), sort()). Both support indexing and slicing.\n",
        "        \n",
        "7. \tHow do tuples ensure data integrity in Python?\n",
        "   - Tuples in Python ensure data integrity primarily through their immutability. This means that once a tuple is created, its elements cannot be modified, added, or removed. This inherent characteristic provides a strong guarantee of data integrity.\n",
        "\n",
        "8. \tWhat is a hash table, and how does it relate to dictionaries in Python?\n",
        "   - A hash table is a data structure that implements an associative array, also known as a dictionary or map. It stores data in key-value pairs, where each key is mapped to a specific memory location (or index in an array) using a hash function. This hash function takes the key as input and produces an integer value (the hash code), which is then used to determine the storage location of the corresponding value. The primary advantage of hash tables is their ability to provide very fast average-case time complexity for operations like insertion, deletion, and lookup (O(1))\n",
        "Python's built-in dictionaries (dict) are implemented using hash tables. When you create a dictionary and add key-value pairs, Python internally uses a hash table to store and retrieve this data efficiently.\n",
        "Here's the relationship:\n",
        "\tUnderlying Implementation:\n",
        "Python dictionaries use a hash table as their fundamental data structure for storing key-value pairs.\n",
        "\tHashing Keys:\n",
        "When you add a key-value pair to a dictionary, Python calculates the hash of the key using a built-in hash() function. This hash value is then used to determine where in the underlying array (the hash table) the key-value pair will be stored.\n",
        "\n",
        "9. \tCan lists contain different data types in Python?\n",
        "   - Yes, lists in Python can contain different data types. This is a key feature of Python lists, making them highly versatile for storing collections of diverse data.\n",
        "For example, a single Python list can contain integers, strings, floats, booleans, and even other lists or complex objects like dictionaries.\n",
        "my_mixed_list = [1, \"hello\", 3.14, True, [5, 6], {\"key\": \"value\"}]\n",
        "print(my_mixed_list)\n",
        "\n",
        "10. \tExplain why strings are immutable in Python?\n",
        "   - Python strings are immutable, meaning that once a string object is created, its content cannot be changed. Any operation that appears to modify a string, such as concatenation or replacement, actually creates a new string object in memory.\n",
        "\n",
        "11. \tWhat advantages do dictionaries offer over lists for certain tasks?\n",
        "   - Dictionaries in Python offer significant advantages over lists for specific tasks, primarily due to their key-value pair structure and underlying hash table implementation.\n",
        "Key Advantages:\n",
        "        Fast Data Retrieval (Lookup by Key):\n",
        "Dictionaries excel at quickly retrieving values when the corresponding key is known. This is because they use hash tables, providing an average-case time complexity of O(1) for lookups. In contrast, lists require iterating through elements (O(n) time complexity) to find a specific value, which becomes inefficient for large datasets.\n",
        "         Readability and Clarity:\n",
        "        When dealing with data that has inherent key-value relationships, using a dictionary makes the code more intuitive and readable compared to using lists of tuples or nested lists to simulate key-value pairs.\n",
        "\n",
        "12.\tDescribe a scenario where using a tuple would be preferable over a list.\n",
        "   - A scenario where using a tuple would be preferable over a list is when representing immutable, fixed collections of related data, especially when used as dictionary keys or for ensuring data integrity.\n",
        "Consider a program that stores geographical coordinates. Each coordinate consists of a latitude and a longitude, which should remain constant once defined.\n",
        " Using a tuple for a geographical coordinate\n",
        "point_of_interest = (34.0522, -118.2437)\n",
        "\n",
        "    Attempting to modify a tuple element will result in an error\n",
        "    point_of_interest[0] = 34.0000\n",
        "    This line would raise a TypeError: 'tuple' object does not support item assignment\n",
        "\n",
        "    Using the tuple as a dictionary key to store associated data\n",
        "    location_data = {point_of_interest: \"Los Angeles City Hall\"}\n",
        "\n",
        "13. \tHow do sets handle duplicate values in Python?\n",
        "   - Python set objects are inherently designed to store only unique elements. They do not allow duplicate values. When you attempt to add a duplicate value to a set, the set simply ignores the addition; it does not raise an error, nor does it store the duplicate. The element already present in the set remains, and the new, identical element is not added.\n",
        "This behavior is a core characteristic of sets and is what makes them useful for operations like removing duplicates from a list or performing mathematical set operations such as union, intersection, and difference, where uniqueness of elements is fundamental.\n",
        "\n",
        "14.\tHow does the “in” keyword work differently for lists and dictionaries?\n",
        "   - The in keyword in Python is used for membership testing in both lists and dictionaries, but its operation differs due to the underlying data structures.\n",
        "For Lists:\n",
        "\tWhen in is used with a list, it checks for the presence of a specific value within the list.\n",
        "\tPython performs a linear search, iterating through each element of the list from beginning to end until the value is found or the end of the list is reached.\n",
        "For Dictionaries:\n",
        "\tWhen in is used with a dictionary, it checks for the presence of a specific key within the dictionary. It does not directly check for values.\n",
        "  Dictionaries are implemented using hash tables. When you use in to check for a key, Python hashes the key and directly looks up the corresponding slot in the hash table.\n",
        "\n",
        "15.\tCan you modify the elements of a tuple? Explain why or why not?\n",
        "   - No, the elements of a tuple cannot be modified directly after its creation. This is because tuples are immutable data structures in Python.\n",
        "Explanation:\n",
        "\tImmutability:\n",
        "Immutability means that once a tuple is defined and its elements are set, its contents cannot be changed, added, or removed. Attempting to modify an element directly, like my_tuple[0] = new_value, will result in a TypeError.\n",
        "\n",
        "16. \tWhat is a nested dictionary, and give an example of its use case?\n",
        "   - A nested dictionary is a dictionary where the values associated with some keys are themselves other dictionaries. This structure allows for the representation of hierarchical or complex data, similar to how records or structs are used in other programming languages.\n",
        "Example of its use case:\n",
        "A common use case for nested dictionaries is representing data with multiple levels of detail, such as an employee database or a catalog of products.\n",
        "Consider storing information about multiple employees, where each employee has various attributes like name, age, and department, and the department itself has a manager. A nested dictionary can effectively model this:\n",
        "employees = {\n",
        "    \"employee_id_1\": {\n",
        "        \"name\": \"Alice Smith\",\n",
        "        \"age\": 30,\n",
        "        \"department\": {\n",
        "            \"name\": \"Human Resources\",\n",
        "            \"manager\": \"Bob Johnson\"\n",
        "        }\n",
        "    },\n",
        "    \"employee_id_2\": {\n",
        "        \"name\": \"Charlie Brown\",\n",
        "        \"age\": 25,\n",
        "        \"department\": {\n",
        "            \"name\": \"Engineering\",\n",
        "            \"manager\": \"Diana Prince\"\n",
        "        }\n",
        "    }\n",
        "}\n",
        "\n",
        " Accessing information:\n",
        "print(employees[\"employee_id_1\"][\"name\"])  # Output: Alice Smith\n",
        "print(employees[\"employee_id_2\"][\"department\"][\"manager\"]) # Output: Diana Prince\n",
        "\n",
        "17.\tDescribe the time complexity of accessing elements in a dictionary.\n",
        "   - The time complexity of accessing elements in a dictionary is typically O(1) on average, meaning it takes constant time regardless of the size of the dictionary. This is due to the underlying implementation of dictionaries as hash tables.\n",
        "    Explanation:\n",
        "         Hashing:\n",
        "     When you access an element using its key, the dictionary first calculates a hash value for that key. This hash value is an integer that helps determine the location (or \"bucket\") where the corresponding value is stored in memory.\n",
        "\n",
        "18.\tIn what situations are lists preferred over dictionaries.\n",
        "   - Order of elements is crucial:\n",
        "Lists maintain the insertion order of elements, which is essential when the sequence of data matters (e.g., a list of steps in a process, a chronological log of events). Dictionaries, while ordered in modern Python versions, are primarily designed for key-based access, and relying on insertion order for logic can be less explicit.\n",
        "Elements are accessed by numerical index:\n",
        "When data needs to be accessed or iterated through based on its position (e.g., the first item, the third item), lists provide efficient indexed access.\n",
        "Duplicate elements are allowed and meaningful:\n",
        "Lists can contain duplicate values, which is necessary when the same item can appear multiple times in a sequence (e.g., a list of items in a shopping cart where multiple quantities of the same item are possible). Dictionaries require unique keys.\n",
        "Memory efficiency is a primary concern for simple sequences:\n",
        "For large, simple sequences of data where the benefits of key-based lookups are not required, lists can be more memory-efficient than dictionaries, as dictionaries carry overhead for storing and managing keys and hash tables.\n",
        "\n",
        "19.\tWhy are dictionaries considered unordered, and how does that affect data retrieval?\n",
        "   - Dictionaries are considered \"unordered\" because they do not guarantee a specific, predictable sequence for their elements, and instead, they are optimized for fast retrieval of values based on their associated keys, not their position.\n",
        "Dictionaries Are Considered Unordered\n",
        "Key-Value Mapping:\n",
        "Dictionaries store data as key-value pairs, where each key is unique and associated with a specific value.\n",
        "No Implicit Indexing:\n",
        "Unlike lists or strings, dictionaries do not have an implicit order or position for their elements that can be used to access them.\n",
        "Optimization for Speed:\n",
        "The primary design goal of a dictionary is to provide rapid lookup of values based on their keys. They use hashing mechanisms to achieve this, not sequential ordering.\n",
        "How Unordered Data Retrieval Works:\n",
        "Key-Based Access is Essential:\n",
        "To retrieve data from a dictionary, you must provide the specific key that corresponds to the value you want.\n",
        "No Positional Retrieval:\n",
        "You cannot access an item by its order or position within the dictionary (e.g., the first item, the third item).\n",
        "Efficient Search by Key:\n",
        "The \"unordered\" nature, combined with their optimized hashing, allows dictionaries to search for and retrieve values very quickly, as long as the key is known.\n",
        "\n",
        "20.\tExplain the difference between a list and a dictionary in terms of data retrieval.\n",
        "   -      Lists:\n",
        "Ordered Collection: Lists store elements in a specific, sequential order.\n",
        "Indexed Retrieval: Data retrieval in lists is based on numerical indices, starting from 0 for the first element. To access an element, its position within the list must be known.\n",
        "Example:\n",
        "my_list = [\"apple\", \"banana\", \"cherry\"]\n",
        "    first_item = my_list[0]  # Retrieves \"apple\"\n",
        "Dictionaries:\n",
        "Unordered Collection (pre-Python 3.7):\n",
        "Historically, dictionaries did not guarantee element order. However, from Python 3.7 onwards, dictionaries maintain insertion order.\n",
        "Key-Value Pairs:\n",
        "Dictionaries store data as key-value pairs, where each unique key maps to a specific value.\n",
        "Key-Based Retrieval:\n",
        "Data retrieval in dictionaries relies on unique keys. To access a value, its corresponding key must be known.\n",
        "Example:\n",
        "     my_dict = {\"fruit\": \"apple\", \"color\": \"red\"}\n",
        "    fruit_value = my_dict[\"fruit\"]  # Retrieves \"apple\"\n",
        "\n",
        "\n",
        "     \n",
        "  \n",
        "\n",
        "\n",
        "\n",
        "\n",
        "\n",
        "       \n",
        "\n",
        "\n",
        "\n",
        "\n",
        "          "
      ],
      "metadata": {
        "id": "YVK-kmgFMPxW"
      }
    },
    {
      "cell_type": "code",
      "source": [
        "# 1.Write a code to create a string with your name and print it.\n",
        "s=input(\"Enter the name:\")\n",
        "print(\"my name is:\",s)"
      ],
      "metadata": {
        "id": "4L8_xHZGVKO8",
        "colab": {
          "base_uri": "https://localhost:8080/"
        },
        "outputId": "d1d6846d-48fa-42c3-fdd8-2efeffc10bf1"
      },
      "execution_count": null,
      "outputs": [
        {
          "output_type": "stream",
          "name": "stdout",
          "text": [
            "Enter the name:Dipak Kumar Gola\n",
            "my name is: Dipak Kumar Gola\n"
          ]
        }
      ]
    },
    {
      "cell_type": "code",
      "source": [
        "# 2.Write a code to find the length of the string \"Hello World\".\n",
        "l=len(\"Hello world\")\n",
        "l"
      ],
      "metadata": {
        "colab": {
          "base_uri": "https://localhost:8080/"
        },
        "id": "BiR7qT17Nckb",
        "outputId": "546a4e68-4dce-4abc-e11a-3c1f31071646"
      },
      "execution_count": null,
      "outputs": [
        {
          "output_type": "execute_result",
          "data": {
            "text/plain": [
              "11"
            ]
          },
          "metadata": {},
          "execution_count": 3
        }
      ]
    },
    {
      "cell_type": "code",
      "source": [
        "# 3.Write a code to slice the first 3 characters from the string \"Python Programming\".\n",
        "s=\"Python Programming\"\n",
        "s[0:3]"
      ],
      "metadata": {
        "colab": {
          "base_uri": "https://localhost:8080/",
          "height": 36
        },
        "id": "gnfoEl1sN1d3",
        "outputId": "4b12e477-1b2e-4d2d-b7b6-b8faca7f2055"
      },
      "execution_count": null,
      "outputs": [
        {
          "output_type": "execute_result",
          "data": {
            "text/plain": [
              "'Pyt'"
            ],
            "application/vnd.google.colaboratory.intrinsic+json": {
              "type": "string"
            }
          },
          "metadata": {},
          "execution_count": 4
        }
      ]
    },
    {
      "cell_type": "code",
      "source": [
        "# 4.Write a code to convert the string \"hello\" to uppercase.\n",
        "s=\"hello\"\n",
        "s.upper()"
      ],
      "metadata": {
        "colab": {
          "base_uri": "https://localhost:8080/",
          "height": 36
        },
        "id": "BEL8e6AiPF2A",
        "outputId": "b244b578-bad5-4fbc-bb2f-1fd3798298ef"
      },
      "execution_count": null,
      "outputs": [
        {
          "output_type": "execute_result",
          "data": {
            "text/plain": [
              "'HELLO'"
            ],
            "application/vnd.google.colaboratory.intrinsic+json": {
              "type": "string"
            }
          },
          "metadata": {},
          "execution_count": 5
        }
      ]
    },
    {
      "cell_type": "code",
      "source": [
        "# 5.Write a code to replace the word \"apple\" with \"orange\" in the string \"I like apple\".\n",
        "s=\"I like apple\"\n",
        "s.replace(\"apple\",\"orange\")"
      ],
      "metadata": {
        "colab": {
          "base_uri": "https://localhost:8080/",
          "height": 36
        },
        "id": "O0M2nHf1Ps_H",
        "outputId": "0830e57a-1f5c-4885-91bc-340a1afa9d27"
      },
      "execution_count": null,
      "outputs": [
        {
          "output_type": "execute_result",
          "data": {
            "text/plain": [
              "'I like orange'"
            ],
            "application/vnd.google.colaboratory.intrinsic+json": {
              "type": "string"
            }
          },
          "metadata": {},
          "execution_count": 6
        }
      ]
    },
    {
      "cell_type": "code",
      "source": [
        "# 6.Write a code to create a list with numbers 1 to 5 and print it.\n",
        "lis=[1,2,3,4,5]\n",
        "lis"
      ],
      "metadata": {
        "colab": {
          "base_uri": "https://localhost:8080/"
        },
        "id": "Xju3w2-5QKvP",
        "outputId": "88596067-216d-4e71-959b-a5750701e958"
      },
      "execution_count": null,
      "outputs": [
        {
          "output_type": "execute_result",
          "data": {
            "text/plain": [
              "[1, 2, 3, 4, 5]"
            ]
          },
          "metadata": {},
          "execution_count": 7
        }
      ]
    },
    {
      "cell_type": "code",
      "source": [
        "# 7. Write a code to append the number 10 to the list [1, 2, 3, 4].\n",
        "lis=[1,2,3,4]\n",
        "lis.append(10)\n",
        "lis"
      ],
      "metadata": {
        "colab": {
          "base_uri": "https://localhost:8080/"
        },
        "id": "Vmu4ZaRlQghH",
        "outputId": "a6bc05f7-9fe3-40cb-fe6f-e4c8d5802f2c"
      },
      "execution_count": null,
      "outputs": [
        {
          "output_type": "execute_result",
          "data": {
            "text/plain": [
              "[1, 2, 3, 4, 10]"
            ]
          },
          "metadata": {},
          "execution_count": 8
        }
      ]
    },
    {
      "cell_type": "code",
      "source": [
        "# 8.Write a code to remove the number 3 from the list [1, 2, 3, 4, 5].\n",
        "lis=[1,2,3,4,5]\n",
        "lis.remove(3)\n",
        "lis"
      ],
      "metadata": {
        "colab": {
          "base_uri": "https://localhost:8080/"
        },
        "id": "7WDQTNI4Q2jr",
        "outputId": "de12a472-3c52-4363-c3da-a5acf212eedb"
      },
      "execution_count": null,
      "outputs": [
        {
          "output_type": "execute_result",
          "data": {
            "text/plain": [
              "[1, 2, 4, 5]"
            ]
          },
          "metadata": {},
          "execution_count": 9
        }
      ]
    },
    {
      "cell_type": "code",
      "source": [
        "# 9.Write a code to access the second element in the list ['a', 'b', 'c', 'd'].\n",
        "lis=['a','b','c','d']\n",
        "lis[1]\n"
      ],
      "metadata": {
        "colab": {
          "base_uri": "https://localhost:8080/",
          "height": 36
        },
        "id": "H7B0Lzd0Seai",
        "outputId": "6ab388f6-5516-41af-90d4-7f4d4a24aacb"
      },
      "execution_count": null,
      "outputs": [
        {
          "output_type": "execute_result",
          "data": {
            "text/plain": [
              "'b'"
            ],
            "application/vnd.google.colaboratory.intrinsic+json": {
              "type": "string"
            }
          },
          "metadata": {},
          "execution_count": 10
        }
      ]
    },
    {
      "cell_type": "code",
      "source": [
        "# 10.Write a code to reverse the list [10, 20, 30, 40, 50].\n",
        "lis=[10,20,30,40,50]\n",
        "lis[::-1]"
      ],
      "metadata": {
        "colab": {
          "base_uri": "https://localhost:8080/"
        },
        "id": "jr_TP2q6TGui",
        "outputId": "7c775773-a07f-4a19-b289-c225f375919a"
      },
      "execution_count": null,
      "outputs": [
        {
          "output_type": "execute_result",
          "data": {
            "text/plain": [
              "[50, 40, 30, 20, 10]"
            ]
          },
          "metadata": {},
          "execution_count": 11
        }
      ]
    },
    {
      "cell_type": "code",
      "source": [
        "# 11.Write a code to create a tuple with the elements 100, 200, 300 and print it.\n",
        "tup=(100,200,300)\n",
        "tup"
      ],
      "metadata": {
        "colab": {
          "base_uri": "https://localhost:8080/"
        },
        "id": "L4Wy0mzmUnIU",
        "outputId": "9e8493bc-1c6f-4df1-a6b5-a6c3ddaf94a0"
      },
      "execution_count": null,
      "outputs": [
        {
          "output_type": "execute_result",
          "data": {
            "text/plain": [
              "(100, 200, 300)"
            ]
          },
          "metadata": {},
          "execution_count": 12
        }
      ]
    },
    {
      "cell_type": "code",
      "source": [
        "# 12.Write a code to access the second-to-last element of the tuple ('red', 'green', 'blue', 'yellow').\n",
        "tup=(\"red\",\"green\",\"blue\",\"yellow\")\n",
        "tup[1:4]"
      ],
      "metadata": {
        "colab": {
          "base_uri": "https://localhost:8080/"
        },
        "id": "ktucphmuVTQT",
        "outputId": "16d804a4-8233-4125-a18a-1ceb52d2eab9"
      },
      "execution_count": null,
      "outputs": [
        {
          "output_type": "execute_result",
          "data": {
            "text/plain": [
              "('green', 'blue', 'yellow')"
            ]
          },
          "metadata": {},
          "execution_count": 14
        }
      ]
    },
    {
      "cell_type": "code",
      "source": [
        "# 13. Write a code to find the minimum number in the tuple (10, 20, 5, 15).\n",
        "tup=(10,20,5,15)\n",
        "max(tup)"
      ],
      "metadata": {
        "colab": {
          "base_uri": "https://localhost:8080/"
        },
        "id": "ja5JJzR1WBXD",
        "outputId": "dbfa6984-ab00-4ac7-e36a-5b1c27f8a2f4"
      },
      "execution_count": null,
      "outputs": [
        {
          "output_type": "execute_result",
          "data": {
            "text/plain": [
              "20"
            ]
          },
          "metadata": {},
          "execution_count": 15
        }
      ]
    },
    {
      "cell_type": "code",
      "source": [
        "# 14.  Write a code to find the index of the element \"cat\" in the tuple ('dog', 'cat', 'rabbit').\n",
        "t=(\"dog\",\"cat\",\"rabbit\")\n",
        "t.index(\"cat\")"
      ],
      "metadata": {
        "colab": {
          "base_uri": "https://localhost:8080/"
        },
        "id": "MeHF6omzWjYY",
        "outputId": "598d6a51-1de1-454a-d001-f31eef8870bc"
      },
      "execution_count": null,
      "outputs": [
        {
          "output_type": "execute_result",
          "data": {
            "text/plain": [
              "1"
            ]
          },
          "metadata": {},
          "execution_count": 16
        }
      ]
    },
    {
      "cell_type": "code",
      "source": [
        "# 15. Write a code to create a tuple containing three different fruits and check if \"kiwi\" is in it.\n",
        "tup=(\"apple\",\"kiwi\",\"orqnge\")\n",
        "\"kiwi\" in tup\n"
      ],
      "metadata": {
        "colab": {
          "base_uri": "https://localhost:8080/"
        },
        "id": "RVp6cs-MXKSQ",
        "outputId": "ab7dc267-14ce-4a37-8383-d48e8b8f6684"
      },
      "execution_count": null,
      "outputs": [
        {
          "output_type": "execute_result",
          "data": {
            "text/plain": [
              "True"
            ]
          },
          "metadata": {},
          "execution_count": 17
        }
      ]
    },
    {
      "cell_type": "code",
      "source": [
        "# 16. Write a code to create a set with the elements 'a', 'b', 'c' and print it.\n",
        "\n",
        "st={'a','b','c'}\n",
        "st"
      ],
      "metadata": {
        "colab": {
          "base_uri": "https://localhost:8080/"
        },
        "id": "pgUI_G6kYGWg",
        "outputId": "5ca03551-e244-439f-c04b-67093bdfbf47"
      },
      "execution_count": null,
      "outputs": [
        {
          "output_type": "execute_result",
          "data": {
            "text/plain": [
              "{'a', 'b', 'c'}"
            ]
          },
          "metadata": {},
          "execution_count": 18
        }
      ]
    },
    {
      "cell_type": "code",
      "source": [
        "# 17. Write a code to clear all elements from the set {1, 2, 3, 4, 5}.\n",
        "st={1,2,3,4,5}\n",
        "st.clear()\n",
        "st"
      ],
      "metadata": {
        "colab": {
          "base_uri": "https://localhost:8080/"
        },
        "id": "FxH3cGJrYgHL",
        "outputId": "a10f695d-c48b-4d16-a702-a10d0cf11363"
      },
      "execution_count": null,
      "outputs": [
        {
          "output_type": "execute_result",
          "data": {
            "text/plain": [
              "set()"
            ]
          },
          "metadata": {},
          "execution_count": 19
        }
      ]
    },
    {
      "cell_type": "code",
      "source": [
        "# 18. Write a code to remove the element 4 from the set {1, 2, 3, 4}.\n",
        "s={1,2,3,4}\n",
        "s.remove(4)\n",
        "s"
      ],
      "metadata": {
        "colab": {
          "base_uri": "https://localhost:8080/"
        },
        "id": "--iaMhMVZUan",
        "outputId": "cd021d48-e50a-48bc-d976-545d310486e7"
      },
      "execution_count": null,
      "outputs": [
        {
          "output_type": "execute_result",
          "data": {
            "text/plain": [
              "{1, 2, 3}"
            ]
          },
          "metadata": {},
          "execution_count": 20
        }
      ]
    },
    {
      "cell_type": "code",
      "source": [
        "# 19. Write a code to find the union of two sets {1, 2, 3} and {3, 4, 5}.\n",
        "s1={1,2,3}\n",
        "s2={3,4,5}\n",
        "s1|s2"
      ],
      "metadata": {
        "colab": {
          "base_uri": "https://localhost:8080/"
        },
        "id": "fDxcgH9XZu-S",
        "outputId": "af684c50-f371-449b-fcad-46559ca45b89"
      },
      "execution_count": null,
      "outputs": [
        {
          "output_type": "execute_result",
          "data": {
            "text/plain": [
              "{1, 2, 3, 4, 5}"
            ]
          },
          "metadata": {},
          "execution_count": 21
        }
      ]
    },
    {
      "cell_type": "code",
      "source": [
        "# 20.Write a code to find the intersection of two sets {1, 2, 3} and {2, 3, 4}.\n",
        "s1={1,2,3}\n",
        "s2={3,4,5}\n",
        "s1&s2"
      ],
      "metadata": {
        "colab": {
          "base_uri": "https://localhost:8080/"
        },
        "id": "qDxKLOa0aNbx",
        "outputId": "d85f6ee1-6423-4b9d-8398-6e35ec54bfa2"
      },
      "execution_count": null,
      "outputs": [
        {
          "output_type": "execute_result",
          "data": {
            "text/plain": [
              "{3}"
            ]
          },
          "metadata": {},
          "execution_count": 22
        }
      ]
    },
    {
      "cell_type": "code",
      "source": [
        "# 21.Write a code to create a dictionary with the keys \"name\", \"age\", and \"city\", and print it.\n",
        "d={\"name\":\"Dipak\",\"age\":30,\"city\":\"Lucknow\"}\n",
        "d"
      ],
      "metadata": {
        "colab": {
          "base_uri": "https://localhost:8080/"
        },
        "id": "1i5DggjBX0UZ",
        "outputId": "00501852-1b36-4129-ae16-8f210bdb70f9"
      },
      "execution_count": null,
      "outputs": [
        {
          "output_type": "execute_result",
          "data": {
            "text/plain": [
              "{'name': 'Dipak', 'age': 30, 'city': 'Lucknow'}"
            ]
          },
          "metadata": {},
          "execution_count": 1
        }
      ]
    },
    {
      "cell_type": "code",
      "source": [
        "# 22.Write a code to add a new key-value pair \"country\": \"USA\" to the dictionary {'name': 'John', 'age': 25}.\n",
        "d={\"name\":\"john\",\"age\":25}\n",
        "d[\"country\"]=\"USA\"\n",
        "d"
      ],
      "metadata": {
        "colab": {
          "base_uri": "https://localhost:8080/"
        },
        "id": "ovSAnO8nYgDU",
        "outputId": "0e1cb8c7-744c-4de4-cf1a-fe678643a388"
      },
      "execution_count": null,
      "outputs": [
        {
          "output_type": "execute_result",
          "data": {
            "text/plain": [
              "{'name': 'john', 'age': 25, 'country': 'USA'}"
            ]
          },
          "metadata": {},
          "execution_count": 2
        }
      ]
    },
    {
      "cell_type": "code",
      "source": [
        "# 23.Write a code to access the value associated with the key \"name\" in the dictionary {'name': 'Alice', 'age': 30}.\n",
        "d={\"name\":\"Alice\",\"age\":30}\n",
        "d['name']"
      ],
      "metadata": {
        "colab": {
          "base_uri": "https://localhost:8080/",
          "height": 36
        },
        "id": "JJMYWPSMaFfI",
        "outputId": "aa38dca4-235e-4ccb-d5c3-599e48ded854"
      },
      "execution_count": null,
      "outputs": [
        {
          "output_type": "execute_result",
          "data": {
            "text/plain": [
              "'Alice'"
            ],
            "application/vnd.google.colaboratory.intrinsic+json": {
              "type": "string"
            }
          },
          "metadata": {},
          "execution_count": 3
        }
      ]
    },
    {
      "cell_type": "code",
      "source": [
        "# 24. Write a code to remove the key \"age\" from the dictionary {'name': 'Bob', 'age': 22, 'city': 'New York'}.\n",
        "d={\"name\":\"Bob\",\"age\":22,\"city\":\"New York\"}\n",
        "del d[\"age\"]\n",
        "d"
      ],
      "metadata": {
        "colab": {
          "base_uri": "https://localhost:8080/"
        },
        "id": "q9e3jgcna5y9",
        "outputId": "4f78880f-e5e9-4f28-bcb8-3ea9c245f259"
      },
      "execution_count": null,
      "outputs": [
        {
          "output_type": "execute_result",
          "data": {
            "text/plain": [
              "{'name': 'Bob', 'city': 'New York'}"
            ]
          },
          "metadata": {},
          "execution_count": 4
        }
      ]
    },
    {
      "cell_type": "code",
      "source": [
        "#  Write a code to check if the key \"city\" exists in the dictionary {'name': 'Alice', 'city': 'Paris'}.\n",
        "my_dict = {'name': 'Alice', 'city': 'Paris'}\n",
        "\n",
        "if \"city\" in my_dict:\n",
        "    print(\"The key 'city' exists in the dictionary.\")\n",
        "else:\n",
        "    print(\"The key 'city' does not exist in the dictionary.\")"
      ],
      "metadata": {
        "colab": {
          "base_uri": "https://localhost:8080/"
        },
        "id": "igQUpg-MbtV8",
        "outputId": "3c53ace8-586e-4906-a050-d6160f9056d8"
      },
      "execution_count": null,
      "outputs": [
        {
          "output_type": "stream",
          "name": "stdout",
          "text": [
            "The key 'city' exists in the dictionary.\n"
          ]
        }
      ]
    },
    {
      "cell_type": "code",
      "source": [
        "# 26.Write a code to create a list, a tuple, and a dictionary, and print them all.\n",
        "def shows():\n",
        "  l=[1,2,3,4]\n",
        "  t=(10,20,30)\n",
        "  d={\"name\":\"Dipak\",\"age\":30,\"city\":\"Lucknow\"}\n",
        "  print(l)\n",
        "  print(t)\n",
        "  print(d)\n",
        "shows()\n"
      ],
      "metadata": {
        "colab": {
          "base_uri": "https://localhost:8080/"
        },
        "id": "zthnNLkLdY4y",
        "outputId": "dc53299c-fb64-45ee-b85d-6cecf2e675d5"
      },
      "execution_count": null,
      "outputs": [
        {
          "output_type": "stream",
          "name": "stdout",
          "text": [
            "[1, 2, 3, 4]\n",
            "(10, 20, 30)\n",
            "{'name': 'Dipak', 'age': 30, 'city': 'Lucknow'}\n"
          ]
        }
      ]
    },
    {
      "cell_type": "code",
      "source": [
        "# 27.Write a code to create a list of 5 random numbers between 1 and 100, sort it in ascending order, and print the result.(replaced)\n",
        "import random\n",
        "random_numbers = []\n",
        "for _ in range(5):\n",
        "    random_numbers.append(random.randint(1, 100))\n",
        "random_numbers.sort()\n",
        "print(random_numbers)"
      ],
      "metadata": {
        "colab": {
          "base_uri": "https://localhost:8080/"
        },
        "id": "m5-WCBe_fZAL",
        "outputId": "d1963349-65b4-4e7b-e3c0-cc363b95205a"
      },
      "execution_count": null,
      "outputs": [
        {
          "output_type": "stream",
          "name": "stdout",
          "text": [
            "[22, 44, 59, 74, 81]\n"
          ]
        }
      ]
    },
    {
      "cell_type": "code",
      "source": [
        "# 28.Write a code to create a list with strings and print the element at the third index.\n",
        "l=[\"apple\",\"orange\",\"mango\",\"potato\"]\n",
        "l[3]"
      ],
      "metadata": {
        "colab": {
          "base_uri": "https://localhost:8080/",
          "height": 36
        },
        "id": "niTWKv9IgvTc",
        "outputId": "8fc5662b-c9fe-4e8c-9fc8-0280d489413b"
      },
      "execution_count": null,
      "outputs": [
        {
          "output_type": "execute_result",
          "data": {
            "text/plain": [
              "'potato'"
            ],
            "application/vnd.google.colaboratory.intrinsic+json": {
              "type": "string"
            }
          },
          "metadata": {},
          "execution_count": 8
        }
      ]
    },
    {
      "cell_type": "code",
      "source": [
        "# 29.Write a code to combine two dictionaries into one and print the result.\n",
        "dict1 = {'a': 1, 'b': 2}\n",
        "dict2 = {'c': 3, 'd': 4}\n",
        "\n",
        "dict1.update(dict2)\n",
        "print(dict1)"
      ],
      "metadata": {
        "colab": {
          "base_uri": "https://localhost:8080/"
        },
        "id": "L7MrVGuUhQ2S",
        "outputId": "68592050-c62f-44c4-ba68-5ed91c24071c"
      },
      "execution_count": null,
      "outputs": [
        {
          "output_type": "stream",
          "name": "stdout",
          "text": [
            "{'a': 1, 'b': 2, 'c': 3, 'd': 4}\n"
          ]
        }
      ]
    },
    {
      "cell_type": "code",
      "source": [
        "# 30.Write a code to convert a list of strings into a set.\n",
        "my_list_of_strings = [\"apple\", \"banana\", \"orange\", \"apple\", \"grape\", \"banana\"]\n",
        "# Convert the list to a set\n",
        "my_set_of_strings = set(my_list_of_strings)\n",
        "print(my_set_of_strings)"
      ],
      "metadata": {
        "colab": {
          "base_uri": "https://localhost:8080/"
        },
        "id": "x5-utPDxitCw",
        "outputId": "fb0493da-f6e1-46b4-d9d0-0a1eeafe7aeb"
      },
      "execution_count": null,
      "outputs": [
        {
          "output_type": "stream",
          "name": "stdout",
          "text": [
            "{'apple', 'banana', 'grape', 'orange'}\n"
          ]
        }
      ]
    }
  ]
}